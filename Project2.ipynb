{
 "cells": [
  {
   "cell_type": "code",
   "execution_count": 8,
   "id": "c5eed90f",
   "metadata": {},
   "outputs": [],
   "source": [
    "import pandas as pd\n",
    "\n",
    "# Read the HTML file into a DataFrame\n",
    "df_html = pd.read_html(\"albums.html\")[0]  # [0] is used to select the first table in the HTML file\n"
   ]
  },
  {
   "cell_type": "code",
   "execution_count": 11,
   "id": "051f4a0f",
   "metadata": {},
   "outputs": [
    {
     "data": {
      "text/html": [
       "<div>\n",
       "<style scoped>\n",
       "    .dataframe tbody tr th:only-of-type {\n",
       "        vertical-align: middle;\n",
       "    }\n",
       "\n",
       "    .dataframe tbody tr th {\n",
       "        vertical-align: top;\n",
       "    }\n",
       "\n",
       "    .dataframe thead th {\n",
       "        text-align: right;\n",
       "    }\n",
       "</style>\n",
       "<table border=\"1\" class=\"dataframe\">\n",
       "  <thead>\n",
       "    <tr style=\"text-align: right;\">\n",
       "      <th></th>\n",
       "      <th>Album Title</th>\n",
       "      <th>Artist</th>\n",
       "      <th>Songs</th>\n",
       "      <th>Release Year</th>\n",
       "    </tr>\n",
       "  </thead>\n",
       "  <tbody>\n",
       "    <tr>\n",
       "      <th>0</th>\n",
       "      <td>Rumours</td>\n",
       "      <td>Fleetwood Mac</td>\n",
       "      <td>Go Your Own Way, Dreams, Don't Stop, The Chain...</td>\n",
       "      <td>1977</td>\n",
       "    </tr>\n",
       "    <tr>\n",
       "      <th>1</th>\n",
       "      <td>Thriller</td>\n",
       "      <td>Michael Jackson</td>\n",
       "      <td>Wanna Be Startin' Somethin', Thriller, Beat It...</td>\n",
       "      <td>1982</td>\n",
       "    </tr>\n",
       "    <tr>\n",
       "      <th>2</th>\n",
       "      <td>Dark Side of the Moon</td>\n",
       "      <td>Pink Floyd</td>\n",
       "      <td>Speak to Me, Breathe, On the Run, Time, The Gr...</td>\n",
       "      <td>1973</td>\n",
       "    </tr>\n",
       "  </tbody>\n",
       "</table>\n",
       "</div>"
      ],
      "text/plain": [
       "             Album Title           Artist  \\\n",
       "0                Rumours    Fleetwood Mac   \n",
       "1               Thriller  Michael Jackson   \n",
       "2  Dark Side of the Moon       Pink Floyd   \n",
       "\n",
       "                                               Songs  Release Year  \n",
       "0  Go Your Own Way, Dreams, Don't Stop, The Chain...          1977  \n",
       "1  Wanna Be Startin' Somethin', Thriller, Beat It...          1982  \n",
       "2  Speak to Me, Breathe, On the Run, Time, The Gr...          1973  "
      ]
     },
     "execution_count": 11,
     "metadata": {},
     "output_type": "execute_result"
    }
   ],
   "source": [
    "df_html.head()"
   ]
  },
  {
   "cell_type": "code",
   "execution_count": 9,
   "id": "2bb5e4b8",
   "metadata": {},
   "outputs": [],
   "source": [
    "# Read the JSON file into a DataFrame\n",
    "df_json = pd.read_json(\"albums.json\")\n"
   ]
  },
  {
   "cell_type": "code",
   "execution_count": 13,
   "id": "84a5cbcf",
   "metadata": {},
   "outputs": [
    {
     "data": {
      "text/html": [
       "<div>\n",
       "<style scoped>\n",
       "    .dataframe tbody tr th:only-of-type {\n",
       "        vertical-align: middle;\n",
       "    }\n",
       "\n",
       "    .dataframe tbody tr th {\n",
       "        vertical-align: top;\n",
       "    }\n",
       "\n",
       "    .dataframe thead th {\n",
       "        text-align: right;\n",
       "    }\n",
       "</style>\n",
       "<table border=\"1\" class=\"dataframe\">\n",
       "  <thead>\n",
       "    <tr style=\"text-align: right;\">\n",
       "      <th></th>\n",
       "      <th>Album Title</th>\n",
       "      <th>Artist</th>\n",
       "      <th>Songs</th>\n",
       "      <th>Release Year</th>\n",
       "    </tr>\n",
       "  </thead>\n",
       "  <tbody>\n",
       "    <tr>\n",
       "      <th>0</th>\n",
       "      <td>Rumours</td>\n",
       "      <td>Fleetwood Mac</td>\n",
       "      <td>[Go Your Own Way, Dreams, Don't Stop, The Chai...</td>\n",
       "      <td>1977</td>\n",
       "    </tr>\n",
       "    <tr>\n",
       "      <th>1</th>\n",
       "      <td>Thriller</td>\n",
       "      <td>Michael Jackson</td>\n",
       "      <td>[Wanna Be Startin' Somethin', Thriller, Beat I...</td>\n",
       "      <td>1982</td>\n",
       "    </tr>\n",
       "    <tr>\n",
       "      <th>2</th>\n",
       "      <td>Dark Side of the Moon</td>\n",
       "      <td>Pink Floyd</td>\n",
       "      <td>[Speak to Me, Breathe, On the Run, Time, The G...</td>\n",
       "      <td>1973</td>\n",
       "    </tr>\n",
       "  </tbody>\n",
       "</table>\n",
       "</div>"
      ],
      "text/plain": [
       "             Album Title           Artist  \\\n",
       "0                Rumours    Fleetwood Mac   \n",
       "1               Thriller  Michael Jackson   \n",
       "2  Dark Side of the Moon       Pink Floyd   \n",
       "\n",
       "                                               Songs  Release Year  \n",
       "0  [Go Your Own Way, Dreams, Don't Stop, The Chai...          1977  \n",
       "1  [Wanna Be Startin' Somethin', Thriller, Beat I...          1982  \n",
       "2  [Speak to Me, Breathe, On the Run, Time, The G...          1973  "
      ]
     },
     "execution_count": 13,
     "metadata": {},
     "output_type": "execute_result"
    }
   ],
   "source": [
    "df_json.head()"
   ]
  },
  {
   "cell_type": "code",
   "execution_count": 14,
   "id": "fcc25292",
   "metadata": {},
   "outputs": [
    {
     "name": "stdout",
     "output_type": "stream",
     "text": [
      "The two DataFrames are not identical.\n"
     ]
    }
   ],
   "source": [
    "# Check if the two DataFrames are identical\n",
    "are_identical = df_html.equals(df_json)\n",
    "\n",
    "if are_identical:\n",
    "    print(\"The two DataFrames are identical.\")\n",
    "else:\n",
    "    print(\"The two DataFrames are not identical.\")\n"
   ]
  },
  {
   "cell_type": "code",
   "execution_count": null,
   "id": "5f9747c7",
   "metadata": {},
   "outputs": [],
   "source": [
    "\n"
   ]
  },
  {
   "cell_type": "code",
   "execution_count": null,
   "id": "c733ebfd",
   "metadata": {},
   "outputs": [],
   "source": []
  }
 ],
 "metadata": {
  "kernelspec": {
   "display_name": "Python 3 (ipykernel)",
   "language": "python",
   "name": "python3"
  },
  "language_info": {
   "codemirror_mode": {
    "name": "ipython",
    "version": 3
   },
   "file_extension": ".py",
   "mimetype": "text/x-python",
   "name": "python",
   "nbconvert_exporter": "python",
   "pygments_lexer": "ipython3",
   "version": "3.11.4"
  }
 },
 "nbformat": 4,
 "nbformat_minor": 5
}
